{
 "cells": [
  {
   "cell_type": "code",
   "execution_count": 78,
   "id": "9524fae5",
   "metadata": {},
   "outputs": [
    {
     "ename": "KeyboardInterrupt",
     "evalue": "Interrupted by user",
     "output_type": "error",
     "traceback": [
      "\u001b[0;31m---------------------------------------------------------------------------\u001b[0m",
      "\u001b[0;31mKeyboardInterrupt\u001b[0m                         Traceback (most recent call last)",
      "Input \u001b[0;32mIn [78]\u001b[0m, in \u001b[0;36m<cell line: 2>\u001b[0;34m()\u001b[0m\n\u001b[1;32m      1\u001b[0m \u001b[38;5;28;01mwhile\u001b[39;00m \u001b[38;5;28;01mTrue\u001b[39;00m:\n\u001b[0;32m----> 2\u001b[0m     values \u001b[38;5;241m=\u001b[39m (\u001b[38;5;28;43minput\u001b[39;49m\u001b[43m(\u001b[49m\u001b[38;5;124;43m\"\u001b[39;49m\u001b[38;5;124;43mgive me your values:\u001b[39;49m\u001b[38;5;124;43m\"\u001b[39;49m\u001b[43m)\u001b[49m)\n\u001b[1;32m      3\u001b[0m     split \u001b[38;5;241m=\u001b[39m values\u001b[38;5;241m.\u001b[39msplit()\n\u001b[1;32m      4\u001b[0m     \u001b[38;5;28;01mfor\u001b[39;00m i \u001b[38;5;129;01min\u001b[39;00m \u001b[38;5;28mrange\u001b[39m(\u001b[38;5;28mlen\u001b[39m(split)):\n",
      "File \u001b[0;32m~/opt/anaconda3/lib/python3.9/site-packages/ipykernel/kernelbase.py:1075\u001b[0m, in \u001b[0;36mKernel.raw_input\u001b[0;34m(self, prompt)\u001b[0m\n\u001b[1;32m   1071\u001b[0m \u001b[38;5;28;01mif\u001b[39;00m \u001b[38;5;129;01mnot\u001b[39;00m \u001b[38;5;28mself\u001b[39m\u001b[38;5;241m.\u001b[39m_allow_stdin:\n\u001b[1;32m   1072\u001b[0m     \u001b[38;5;28;01mraise\u001b[39;00m StdinNotImplementedError(\n\u001b[1;32m   1073\u001b[0m         \u001b[38;5;124m\"\u001b[39m\u001b[38;5;124mraw_input was called, but this frontend does not support input requests.\u001b[39m\u001b[38;5;124m\"\u001b[39m\n\u001b[1;32m   1074\u001b[0m     )\n\u001b[0;32m-> 1075\u001b[0m \u001b[38;5;28;01mreturn\u001b[39;00m \u001b[38;5;28;43mself\u001b[39;49m\u001b[38;5;241;43m.\u001b[39;49m\u001b[43m_input_request\u001b[49m\u001b[43m(\u001b[49m\n\u001b[1;32m   1076\u001b[0m \u001b[43m    \u001b[49m\u001b[38;5;28;43mstr\u001b[39;49m\u001b[43m(\u001b[49m\u001b[43mprompt\u001b[49m\u001b[43m)\u001b[49m\u001b[43m,\u001b[49m\n\u001b[1;32m   1077\u001b[0m \u001b[43m    \u001b[49m\u001b[38;5;28;43mself\u001b[39;49m\u001b[38;5;241;43m.\u001b[39;49m\u001b[43m_parent_ident\u001b[49m\u001b[43m[\u001b[49m\u001b[38;5;124;43m\"\u001b[39;49m\u001b[38;5;124;43mshell\u001b[39;49m\u001b[38;5;124;43m\"\u001b[39;49m\u001b[43m]\u001b[49m\u001b[43m,\u001b[49m\n\u001b[1;32m   1078\u001b[0m \u001b[43m    \u001b[49m\u001b[38;5;28;43mself\u001b[39;49m\u001b[38;5;241;43m.\u001b[39;49m\u001b[43mget_parent\u001b[49m\u001b[43m(\u001b[49m\u001b[38;5;124;43m\"\u001b[39;49m\u001b[38;5;124;43mshell\u001b[39;49m\u001b[38;5;124;43m\"\u001b[39;49m\u001b[43m)\u001b[49m\u001b[43m,\u001b[49m\n\u001b[1;32m   1079\u001b[0m \u001b[43m    \u001b[49m\u001b[43mpassword\u001b[49m\u001b[38;5;241;43m=\u001b[39;49m\u001b[38;5;28;43;01mFalse\u001b[39;49;00m\u001b[43m,\u001b[49m\n\u001b[1;32m   1080\u001b[0m \u001b[43m\u001b[49m\u001b[43m)\u001b[49m\n",
      "File \u001b[0;32m~/opt/anaconda3/lib/python3.9/site-packages/ipykernel/kernelbase.py:1120\u001b[0m, in \u001b[0;36mKernel._input_request\u001b[0;34m(self, prompt, ident, parent, password)\u001b[0m\n\u001b[1;32m   1117\u001b[0m             \u001b[38;5;28;01mbreak\u001b[39;00m\n\u001b[1;32m   1118\u001b[0m \u001b[38;5;28;01mexcept\u001b[39;00m \u001b[38;5;167;01mKeyboardInterrupt\u001b[39;00m:\n\u001b[1;32m   1119\u001b[0m     \u001b[38;5;66;03m# re-raise KeyboardInterrupt, to truncate traceback\u001b[39;00m\n\u001b[0;32m-> 1120\u001b[0m     \u001b[38;5;28;01mraise\u001b[39;00m \u001b[38;5;167;01mKeyboardInterrupt\u001b[39;00m(\u001b[38;5;124m\"\u001b[39m\u001b[38;5;124mInterrupted by user\u001b[39m\u001b[38;5;124m\"\u001b[39m) \u001b[38;5;28;01mfrom\u001b[39;00m \u001b[38;5;28mNone\u001b[39m\n\u001b[1;32m   1121\u001b[0m \u001b[38;5;28;01mexcept\u001b[39;00m \u001b[38;5;167;01mException\u001b[39;00m:\n\u001b[1;32m   1122\u001b[0m     \u001b[38;5;28mself\u001b[39m\u001b[38;5;241m.\u001b[39mlog\u001b[38;5;241m.\u001b[39mwarning(\u001b[38;5;124m\"\u001b[39m\u001b[38;5;124mInvalid Message:\u001b[39m\u001b[38;5;124m\"\u001b[39m, exc_info\u001b[38;5;241m=\u001b[39m\u001b[38;5;28;01mTrue\u001b[39;00m)\n",
      "\u001b[0;31mKeyboardInterrupt\u001b[0m: Interrupted by user"
     ]
    }
   ],
   "source": [
    "while True:\n",
    "    values = (input(\"give me your values:\"))\n",
    "    split = values.split()\n",
    "    for i in range(len(split)):\n",
    "        split[i]=float(split[i])\n",
    "    if len(split) != 2:\n",
    "        print(\"Operations need two numbers!\")\n",
    "        continue\n",
    "    op=str(input(\"what operation do you want me to do Hani?\"))\n",
    "    \n",
    "    if op ==\"+\":\n",
    "        r = split[0] + split[1]\n",
    "        print(\"result is:\",r)\n",
    "    if op ==\"*\":\n",
    "        r = split[0] * split[1]\n",
    "        print(\"result is:\",r)\n",
    "    if op ==\"/\":\n",
    "        r = split[0] / split[1]\n",
    "        print(\"result is:\",r)\n",
    "    if op ==\"-\":\n",
    "        r = split[0] - split[1]\n",
    "        print(\"result is:\",r)\n",
    "    again = str(input(\"any other operation?\"))\n",
    "    if again == \"no\":\n",
    "        break\n",
    "    elif again == \"yes\":\n",
    "        continue\n",
    "    else:\n",
    "        another_operation=False\n",
    "        while True:\n",
    "            x = input(\"any other operation\")\n",
    "            if x == \"yes\":\n",
    "                another_operation=True\n",
    "                break\n",
    "            elif x == \"no\":\n",
    "                break\n",
    "            else:\n",
    "                continue\n",
    "        if another_operation:\n",
    "            continue\n",
    "        else:\n",
    "            break\n",
    "        "
   ]
  },
  {
   "cell_type": "code",
   "execution_count": 109,
   "id": "335da11e",
   "metadata": {},
   "outputs": [
    {
     "name": "stdout",
     "output_type": "stream",
     "text": [
      "[1, 2, 3, 4, 5, 6, 7, 8, 9, 10]\n"
     ]
    }
   ],
   "source": [
    "my_list = [5,4,6,10,1,7,9,8,2,3]\n",
    "i = 0\n",
    "while i < len(my_list) - 1:\n",
    "    if my_list[i]> my_list[i+1]:\n",
    "        my_list[i], my_list[i+1] = my_list[i+1], my_list[i]\n",
    "        i=0\n",
    "    elif my_list[i]< my_list[i+1]:\n",
    "        i += 1\n",
    "        continue \n",
    "print(my_list)\n",
    "        \n",
    "        \n",
    "\n"
   ]
  },
  {
   "cell_type": "code",
   "execution_count": 94,
   "id": "2fb42bf3",
   "metadata": {},
   "outputs": [
    {
     "data": {
      "text/plain": [
       "4"
      ]
     },
     "execution_count": 94,
     "metadata": {},
     "output_type": "execute_result"
    }
   ],
   "source": [
    "my_list[0]"
   ]
  },
  {
   "cell_type": "code",
   "execution_count": 110,
   "id": "9c7d5f8f",
   "metadata": {},
   "outputs": [
    {
     "name": "stdout",
     "output_type": "stream",
     "text": [
      "[1, 2, 3, 4, 5, 6, 7, 8, 9, 10]\n"
     ]
    }
   ],
   "source": [
    "my_list = [5,4,6,10,1,7,9,8,2,3]\n",
    "i = 0\n",
    "while i < len(my_list) - 1:\n",
    "    if my_list[i]> my_list[i+1]:\n",
    "        my_list[i], my_list[i+1] = my_list[i+1], my_list[i]\n",
    "        i=0\n",
    "    elif my_list[i]< my_list[i+1]:\n",
    "        i += 1\n",
    "        continue \n",
    "print(my_list)\n",
    "        \n",
    "        \n"
   ]
  },
  {
   "cell_type": "code",
   "execution_count": 126,
   "id": "2b62ab9e",
   "metadata": {},
   "outputs": [
    {
     "name": "stdout",
     "output_type": "stream",
     "text": [
      "[5, 4, 6, 10, 1, 7, 9, 8, 2, 3]\n",
      "Switch 5 with 4\n",
      "[4, 5, 6, 10, 1, 7, 9, 8, 2, 3]\n",
      "[4, 5, 6, 10, 1, 7, 9, 8, 2, 3]\n",
      "[4, 5, 6, 10, 1, 7, 9, 8, 2, 3]\n",
      "Switch 4 with 1\n",
      "[1, 5, 6, 10, 4, 7, 9, 8, 2, 3]\n",
      "[1, 5, 6, 10, 4, 7, 9, 8, 2, 3]\n",
      "[1, 5, 6, 10, 4, 7, 9, 8, 2, 3]\n",
      "[1, 5, 6, 10, 4, 7, 9, 8, 2, 3]\n",
      "[1, 5, 6, 10, 4, 7, 9, 8, 2, 3]\n",
      "[1, 5, 6, 10, 4, 7, 9, 8, 2, 3]\n",
      "Switch 5 with 1\n",
      "[5, 1, 6, 10, 4, 7, 9, 8, 2, 3]\n",
      "[5, 1, 6, 10, 4, 7, 9, 8, 2, 3]\n",
      "[5, 1, 6, 10, 4, 7, 9, 8, 2, 3]\n",
      "[5, 1, 6, 10, 4, 7, 9, 8, 2, 3]\n",
      "[5, 1, 6, 10, 4, 7, 9, 8, 2, 3]\n",
      "[5, 1, 6, 10, 4, 7, 9, 8, 2, 3]\n",
      "[5, 1, 6, 10, 4, 7, 9, 8, 2, 3]\n",
      "[5, 1, 6, 10, 4, 7, 9, 8, 2, 3]\n",
      "[5, 1, 6, 10, 4, 7, 9, 8, 2, 3]\n",
      "[5, 1, 6, 10, 4, 7, 9, 8, 2, 3]\n",
      "Switch 6 with 5\n",
      "[6, 1, 5, 10, 4, 7, 9, 8, 2, 3]\n",
      "Switch 5 with 1\n",
      "[6, 5, 1, 10, 4, 7, 9, 8, 2, 3]\n",
      "[6, 5, 1, 10, 4, 7, 9, 8, 2, 3]\n",
      "[6, 5, 1, 10, 4, 7, 9, 8, 2, 3]\n",
      "[6, 5, 1, 10, 4, 7, 9, 8, 2, 3]\n",
      "[6, 5, 1, 10, 4, 7, 9, 8, 2, 3]\n",
      "[6, 5, 1, 10, 4, 7, 9, 8, 2, 3]\n",
      "[6, 5, 1, 10, 4, 7, 9, 8, 2, 3]\n",
      "[6, 5, 1, 10, 4, 7, 9, 8, 2, 3]\n",
      "[6, 5, 1, 10, 4, 7, 9, 8, 2, 3]\n",
      "Switch 10 with 6\n",
      "[10, 5, 1, 6, 4, 7, 9, 8, 2, 3]\n",
      "Switch 6 with 5\n",
      "[10, 6, 1, 5, 4, 7, 9, 8, 2, 3]\n",
      "Switch 5 with 1\n",
      "[10, 6, 5, 1, 4, 7, 9, 8, 2, 3]\n",
      "[10, 6, 5, 1, 4, 7, 9, 8, 2, 3]\n",
      "[10, 6, 5, 1, 4, 7, 9, 8, 2, 3]\n",
      "[10, 6, 5, 1, 4, 7, 9, 8, 2, 3]\n",
      "[10, 6, 5, 1, 4, 7, 9, 8, 2, 3]\n",
      "[10, 6, 5, 1, 4, 7, 9, 8, 2, 3]\n",
      "[10, 6, 5, 1, 4, 7, 9, 8, 2, 3]\n",
      "[10, 6, 5, 1, 4, 7, 9, 8, 2, 3]\n",
      "[10, 6, 5, 1, 4, 7, 9, 8, 2, 3]\n",
      "[10, 6, 5, 1, 4, 7, 9, 8, 2, 3]\n",
      "[10, 6, 5, 1, 4, 7, 9, 8, 2, 3]\n",
      "Switch 4 with 1\n",
      "[10, 6, 5, 4, 1, 7, 9, 8, 2, 3]\n",
      "[10, 6, 5, 4, 1, 7, 9, 8, 2, 3]\n",
      "[10, 6, 5, 4, 1, 7, 9, 8, 2, 3]\n",
      "[10, 6, 5, 4, 1, 7, 9, 8, 2, 3]\n",
      "[10, 6, 5, 4, 1, 7, 9, 8, 2, 3]\n",
      "[10, 6, 5, 4, 1, 7, 9, 8, 2, 3]\n",
      "[10, 6, 5, 4, 1, 7, 9, 8, 2, 3]\n",
      "[10, 6, 5, 4, 1, 7, 9, 8, 2, 3]\n",
      "Switch 7 with 6\n",
      "[10, 7, 5, 4, 1, 6, 9, 8, 2, 3]\n",
      "Switch 6 with 5\n",
      "[10, 7, 6, 4, 1, 5, 9, 8, 2, 3]\n",
      "Switch 5 with 4\n",
      "[10, 7, 6, 5, 1, 4, 9, 8, 2, 3]\n",
      "Switch 4 with 1\n",
      "[10, 7, 6, 5, 4, 1, 9, 8, 2, 3]\n",
      "[10, 7, 6, 5, 4, 1, 9, 8, 2, 3]\n",
      "[10, 7, 6, 5, 4, 1, 9, 8, 2, 3]\n",
      "[10, 7, 6, 5, 4, 1, 9, 8, 2, 3]\n",
      "[10, 7, 6, 5, 4, 1, 9, 8, 2, 3]\n",
      "[10, 7, 6, 5, 4, 1, 9, 8, 2, 3]\n",
      "[10, 7, 6, 5, 4, 1, 9, 8, 2, 3]\n",
      "Switch 9 with 7\n",
      "[10, 9, 6, 5, 4, 1, 7, 8, 2, 3]\n",
      "Switch 7 with 6\n",
      "[10, 9, 7, 5, 4, 1, 6, 8, 2, 3]\n",
      "Switch 6 with 5\n",
      "[10, 9, 7, 6, 4, 1, 5, 8, 2, 3]\n",
      "Switch 5 with 4\n",
      "[10, 9, 7, 6, 5, 1, 4, 8, 2, 3]\n",
      "Switch 4 with 1\n",
      "[10, 9, 7, 6, 5, 4, 1, 8, 2, 3]\n",
      "[10, 9, 7, 6, 5, 4, 1, 8, 2, 3]\n",
      "[10, 9, 7, 6, 5, 4, 1, 8, 2, 3]\n",
      "[10, 9, 7, 6, 5, 4, 1, 8, 2, 3]\n",
      "[10, 9, 7, 6, 5, 4, 1, 8, 2, 3]\n",
      "[10, 9, 7, 6, 5, 4, 1, 8, 2, 3]\n",
      "[10, 9, 7, 6, 5, 4, 1, 8, 2, 3]\n",
      "Switch 8 with 7\n",
      "[10, 9, 8, 6, 5, 4, 1, 7, 2, 3]\n",
      "Switch 7 with 6\n",
      "[10, 9, 8, 7, 5, 4, 1, 6, 2, 3]\n",
      "Switch 6 with 5\n",
      "[10, 9, 8, 7, 6, 4, 1, 5, 2, 3]\n",
      "Switch 5 with 4\n",
      "[10, 9, 8, 7, 6, 5, 1, 4, 2, 3]\n",
      "Switch 4 with 1\n",
      "[10, 9, 8, 7, 6, 5, 4, 1, 2, 3]\n",
      "[10, 9, 8, 7, 6, 5, 4, 1, 2, 3]\n",
      "[10, 9, 8, 7, 6, 5, 4, 1, 2, 3]\n",
      "[10, 9, 8, 7, 6, 5, 4, 1, 2, 3]\n",
      "[10, 9, 8, 7, 6, 5, 4, 1, 2, 3]\n",
      "[10, 9, 8, 7, 6, 5, 4, 1, 2, 3]\n",
      "[10, 9, 8, 7, 6, 5, 4, 1, 2, 3]\n",
      "[10, 9, 8, 7, 6, 5, 4, 1, 2, 3]\n",
      "[10, 9, 8, 7, 6, 5, 4, 1, 2, 3]\n",
      "[10, 9, 8, 7, 6, 5, 4, 1, 2, 3]\n",
      "[10, 9, 8, 7, 6, 5, 4, 1, 2, 3]\n",
      "Switch 2 with 1\n",
      "[10, 9, 8, 7, 6, 5, 4, 2, 1, 3]\n",
      "[10, 9, 8, 7, 6, 5, 4, 2, 1, 3]\n",
      "[10, 9, 8, 7, 6, 5, 4, 2, 1, 3]\n",
      "[10, 9, 8, 7, 6, 5, 4, 2, 1, 3]\n",
      "[10, 9, 8, 7, 6, 5, 4, 2, 1, 3]\n",
      "[10, 9, 8, 7, 6, 5, 4, 2, 1, 3]\n",
      "[10, 9, 8, 7, 6, 5, 4, 2, 1, 3]\n",
      "[10, 9, 8, 7, 6, 5, 4, 2, 1, 3]\n",
      "[10, 9, 8, 7, 6, 5, 4, 2, 1, 3]\n",
      "[10, 9, 8, 7, 6, 5, 4, 2, 1, 3]\n",
      "Switch 3 with 2\n",
      "[10, 9, 8, 7, 6, 5, 4, 3, 1, 2]\n",
      "Switch 2 with 1\n",
      "[10, 9, 8, 7, 6, 5, 4, 3, 2, 1]\n",
      "[10, 9, 8, 7, 6, 5, 4, 3, 2, 1]\n"
     ]
    }
   ],
   "source": [
    "my_list = [5,4,6,10,1,7,9,8,2,3]\n",
    "\n",
    "for i in range(len(my_list)):\n",
    "    for j in range (len(my_list)):\n",
    "        if my_list[i]> my_list[j]:\n",
    "            print(f\"Switch {my_list[i]} with {my_list[j]}\")\n",
    "            val = my_list[i]\n",
    "            my_list[i] = my_list[j]\n",
    "            my_list[j] = val\n",
    "        else:\n",
    "            pass\n",
    "        print(my_list)\n",
    "        \n",
    "        \n",
    "        \n"
   ]
  },
  {
   "cell_type": "code",
   "execution_count": 127,
   "id": "2095849f",
   "metadata": {},
   "outputs": [],
   "source": [
    "#find out if number n is prime:\n",
    "#take a list of all possible divisor [2...n-1]\n",
    "#iterate and check if n is divisible \n",
    "#if n is divisible, numver is not prime > stop: print(not prime)\n",
    "#if n is not divisible > keep iterating\n",
    "\n",
    "# bonus:\n",
    "#turn into a function that takes (n:int) as an argument aand return true if n is prime, otherwise false\n",
    "\n",
    "#use  % to check divisibility "
   ]
  },
  {
   "cell_type": "code",
   "execution_count": null,
   "id": "02e352f2",
   "metadata": {},
   "outputs": [],
   "source": [
    "# write a program that computes a matrix "
   ]
  }
 ],
 "metadata": {
  "kernelspec": {
   "display_name": "Python 3 (ipykernel)",
   "language": "python",
   "name": "python3"
  },
  "language_info": {
   "codemirror_mode": {
    "name": "ipython",
    "version": 3
   },
   "file_extension": ".py",
   "mimetype": "text/x-python",
   "name": "python",
   "nbconvert_exporter": "python",
   "pygments_lexer": "ipython3",
   "version": "3.9.12"
  }
 },
 "nbformat": 4,
 "nbformat_minor": 5
}
