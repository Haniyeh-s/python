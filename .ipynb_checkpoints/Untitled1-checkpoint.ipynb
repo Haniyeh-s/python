{
 "cells": [
  {
   "cell_type": "code",
   "execution_count": 78,
   "id": "9524fae5",
   "metadata": {},
   "outputs": [
    {
     "ename": "KeyboardInterrupt",
     "evalue": "Interrupted by user",
     "output_type": "error",
     "traceback": [
      "\u001b[0;31m---------------------------------------------------------------------------\u001b[0m",
      "\u001b[0;31mKeyboardInterrupt\u001b[0m                         Traceback (most recent call last)",
      "Input \u001b[0;32mIn [78]\u001b[0m, in \u001b[0;36m<cell line: 2>\u001b[0;34m()\u001b[0m\n\u001b[1;32m      1\u001b[0m \u001b[38;5;28;01mwhile\u001b[39;00m \u001b[38;5;28;01mTrue\u001b[39;00m:\n\u001b[0;32m----> 2\u001b[0m     values \u001b[38;5;241m=\u001b[39m (\u001b[38;5;28;43minput\u001b[39;49m\u001b[43m(\u001b[49m\u001b[38;5;124;43m\"\u001b[39;49m\u001b[38;5;124;43mgive me your values:\u001b[39;49m\u001b[38;5;124;43m\"\u001b[39;49m\u001b[43m)\u001b[49m)\n\u001b[1;32m      3\u001b[0m     split \u001b[38;5;241m=\u001b[39m values\u001b[38;5;241m.\u001b[39msplit()\n\u001b[1;32m      4\u001b[0m     \u001b[38;5;28;01mfor\u001b[39;00m i \u001b[38;5;129;01min\u001b[39;00m \u001b[38;5;28mrange\u001b[39m(\u001b[38;5;28mlen\u001b[39m(split)):\n",
      "File \u001b[0;32m~/opt/anaconda3/lib/python3.9/site-packages/ipykernel/kernelbase.py:1075\u001b[0m, in \u001b[0;36mKernel.raw_input\u001b[0;34m(self, prompt)\u001b[0m\n\u001b[1;32m   1071\u001b[0m \u001b[38;5;28;01mif\u001b[39;00m \u001b[38;5;129;01mnot\u001b[39;00m \u001b[38;5;28mself\u001b[39m\u001b[38;5;241m.\u001b[39m_allow_stdin:\n\u001b[1;32m   1072\u001b[0m     \u001b[38;5;28;01mraise\u001b[39;00m StdinNotImplementedError(\n\u001b[1;32m   1073\u001b[0m         \u001b[38;5;124m\"\u001b[39m\u001b[38;5;124mraw_input was called, but this frontend does not support input requests.\u001b[39m\u001b[38;5;124m\"\u001b[39m\n\u001b[1;32m   1074\u001b[0m     )\n\u001b[0;32m-> 1075\u001b[0m \u001b[38;5;28;01mreturn\u001b[39;00m \u001b[38;5;28;43mself\u001b[39;49m\u001b[38;5;241;43m.\u001b[39;49m\u001b[43m_input_request\u001b[49m\u001b[43m(\u001b[49m\n\u001b[1;32m   1076\u001b[0m \u001b[43m    \u001b[49m\u001b[38;5;28;43mstr\u001b[39;49m\u001b[43m(\u001b[49m\u001b[43mprompt\u001b[49m\u001b[43m)\u001b[49m\u001b[43m,\u001b[49m\n\u001b[1;32m   1077\u001b[0m \u001b[43m    \u001b[49m\u001b[38;5;28;43mself\u001b[39;49m\u001b[38;5;241;43m.\u001b[39;49m\u001b[43m_parent_ident\u001b[49m\u001b[43m[\u001b[49m\u001b[38;5;124;43m\"\u001b[39;49m\u001b[38;5;124;43mshell\u001b[39;49m\u001b[38;5;124;43m\"\u001b[39;49m\u001b[43m]\u001b[49m\u001b[43m,\u001b[49m\n\u001b[1;32m   1078\u001b[0m \u001b[43m    \u001b[49m\u001b[38;5;28;43mself\u001b[39;49m\u001b[38;5;241;43m.\u001b[39;49m\u001b[43mget_parent\u001b[49m\u001b[43m(\u001b[49m\u001b[38;5;124;43m\"\u001b[39;49m\u001b[38;5;124;43mshell\u001b[39;49m\u001b[38;5;124;43m\"\u001b[39;49m\u001b[43m)\u001b[49m\u001b[43m,\u001b[49m\n\u001b[1;32m   1079\u001b[0m \u001b[43m    \u001b[49m\u001b[43mpassword\u001b[49m\u001b[38;5;241;43m=\u001b[39;49m\u001b[38;5;28;43;01mFalse\u001b[39;49;00m\u001b[43m,\u001b[49m\n\u001b[1;32m   1080\u001b[0m \u001b[43m\u001b[49m\u001b[43m)\u001b[49m\n",
      "File \u001b[0;32m~/opt/anaconda3/lib/python3.9/site-packages/ipykernel/kernelbase.py:1120\u001b[0m, in \u001b[0;36mKernel._input_request\u001b[0;34m(self, prompt, ident, parent, password)\u001b[0m\n\u001b[1;32m   1117\u001b[0m             \u001b[38;5;28;01mbreak\u001b[39;00m\n\u001b[1;32m   1118\u001b[0m \u001b[38;5;28;01mexcept\u001b[39;00m \u001b[38;5;167;01mKeyboardInterrupt\u001b[39;00m:\n\u001b[1;32m   1119\u001b[0m     \u001b[38;5;66;03m# re-raise KeyboardInterrupt, to truncate traceback\u001b[39;00m\n\u001b[0;32m-> 1120\u001b[0m     \u001b[38;5;28;01mraise\u001b[39;00m \u001b[38;5;167;01mKeyboardInterrupt\u001b[39;00m(\u001b[38;5;124m\"\u001b[39m\u001b[38;5;124mInterrupted by user\u001b[39m\u001b[38;5;124m\"\u001b[39m) \u001b[38;5;28;01mfrom\u001b[39;00m \u001b[38;5;28mNone\u001b[39m\n\u001b[1;32m   1121\u001b[0m \u001b[38;5;28;01mexcept\u001b[39;00m \u001b[38;5;167;01mException\u001b[39;00m:\n\u001b[1;32m   1122\u001b[0m     \u001b[38;5;28mself\u001b[39m\u001b[38;5;241m.\u001b[39mlog\u001b[38;5;241m.\u001b[39mwarning(\u001b[38;5;124m\"\u001b[39m\u001b[38;5;124mInvalid Message:\u001b[39m\u001b[38;5;124m\"\u001b[39m, exc_info\u001b[38;5;241m=\u001b[39m\u001b[38;5;28;01mTrue\u001b[39;00m)\n",
      "\u001b[0;31mKeyboardInterrupt\u001b[0m: Interrupted by user"
     ]
    }
   ],
   "source": [
    "while True:\n",
    "    values = (input(\"give me your values:\"))\n",
    "    split = values.split()\n",
    "    for i in range(len(split)):\n",
    "        split[i]=float(split[i])\n",
    "    if len(split) != 2:\n",
    "        print(\"Operations need two numbers!\")\n",
    "        continue\n",
    "    op=str(input(\"what operation do you want me to do Hani?\"))\n",
    "    \n",
    "    if op ==\"+\":\n",
    "        r = split[0] + split[1]\n",
    "        print(\"result is:\",r)\n",
    "    if op ==\"*\":\n",
    "        r = split[0] * split[1]\n",
    "        print(\"result is:\",r)\n",
    "    if op ==\"/\":\n",
    "        r = split[0] / split[1]\n",
    "        print(\"result is:\",r)\n",
    "    if op ==\"-\":\n",
    "        r = split[0] - split[1]\n",
    "        print(\"result is:\",r)\n",
    "    again = str(input(\"any other operation?\"))\n",
    "    if again == \"no\":\n",
    "        break\n",
    "    elif again == \"yes\":\n",
    "        continue\n",
    "    else:\n",
    "        another_operation=False\n",
    "        while True:\n",
    "            x = input(\"any other operation\")\n",
    "            if x == \"yes\":\n",
    "                another_operation=True\n",
    "                break\n",
    "            elif x == \"no\":\n",
    "                break\n",
    "            else:\n",
    "                continue\n",
    "        if another_operation:\n",
    "            continue\n",
    "        else:\n",
    "            break\n",
    "        "
   ]
  },
  {
   "cell_type": "code",
   "execution_count": 109,
   "id": "335da11e",
   "metadata": {},
   "outputs": [
    {
     "name": "stdout",
     "output_type": "stream",
     "text": [
      "[1, 2, 3, 4, 5, 6, 7, 8, 9, 10]\n"
     ]
    }
   ],
   "source": [
    "my_list = [5,4,6,10,1,7,9,8,2,3]\n",
    "i = 0\n",
    "while i < len(my_list) - 1:\n",
    "    if my_list[i]> my_list[i+1]:\n",
    "        my_list[i], my_list[i+1] = my_list[i+1], my_list[i]\n",
    "        i=0\n",
    "    elif my_list[i]< my_list[i+1]:\n",
    "        i += 1\n",
    "        continue \n",
    "print(my_list)\n",
    "        \n",
    "        \n",
    "\n"
   ]
  },
  {
   "cell_type": "code",
   "execution_count": 94,
   "id": "2fb42bf3",
   "metadata": {},
   "outputs": [
    {
     "data": {
      "text/plain": [
       "4"
      ]
     },
     "execution_count": 94,
     "metadata": {},
     "output_type": "execute_result"
    }
   ],
   "source": [
    "my_list[0]"
   ]
  },
  {
   "cell_type": "code",
   "execution_count": 110,
   "id": "9c7d5f8f",
   "metadata": {},
   "outputs": [
    {
     "name": "stdout",
     "output_type": "stream",
     "text": [
      "[1, 2, 3, 4, 5, 6, 7, 8, 9, 10]\n"
     ]
    }
   ],
   "source": [
    "my_list = [5,4,6,10,1,7,9,8,2,3]\n",
    "i = 0\n",
    "while i < len(my_list) - 1:\n",
    "    if my_list[i]> my_list[i+1]:\n",
    "        my_list[i], my_list[i+1] = my_list[i+1], my_list[i]\n",
    "        i=0\n",
    "    elif my_list[i]< my_list[i+1]:\n",
    "        i += 1\n",
    "        continue \n",
    "print(my_list)\n",
    "        \n",
    "        \n"
   ]
  },
  {
   "cell_type": "code",
   "execution_count": 126,
   "id": "2b62ab9e",
   "metadata": {},
   "outputs": [
    {
     "name": "stdout",
     "output_type": "stream",
     "text": [
      "[5, 4, 6, 10, 1, 7, 9, 8, 2, 3]\n",
      "Switch 5 with 4\n",
      "[4, 5, 6, 10, 1, 7, 9, 8, 2, 3]\n",
      "[4, 5, 6, 10, 1, 7, 9, 8, 2, 3]\n",
      "[4, 5, 6, 10, 1, 7, 9, 8, 2, 3]\n",
      "Switch 4 with 1\n",
      "[1, 5, 6, 10, 4, 7, 9, 8, 2, 3]\n",
      "[1, 5, 6, 10, 4, 7, 9, 8, 2, 3]\n",
      "[1, 5, 6, 10, 4, 7, 9, 8, 2, 3]\n",
      "[1, 5, 6, 10, 4, 7, 9, 8, 2, 3]\n",
      "[1, 5, 6, 10, 4, 7, 9, 8, 2, 3]\n",
      "[1, 5, 6, 10, 4, 7, 9, 8, 2, 3]\n",
      "Switch 5 with 1\n",
      "[5, 1, 6, 10, 4, 7, 9, 8, 2, 3]\n",
      "[5, 1, 6, 10, 4, 7, 9, 8, 2, 3]\n",
      "[5, 1, 6, 10, 4, 7, 9, 8, 2, 3]\n",
      "[5, 1, 6, 10, 4, 7, 9, 8, 2, 3]\n",
      "[5, 1, 6, 10, 4, 7, 9, 8, 2, 3]\n",
      "[5, 1, 6, 10, 4, 7, 9, 8, 2, 3]\n",
      "[5, 1, 6, 10, 4, 7, 9, 8, 2, 3]\n",
      "[5, 1, 6, 10, 4, 7, 9, 8, 2, 3]\n",
      "[5, 1, 6, 10, 4, 7, 9, 8, 2, 3]\n",
      "[5, 1, 6, 10, 4, 7, 9, 8, 2, 3]\n",
      "Switch 6 with 5\n",
      "[6, 1, 5, 10, 4, 7, 9, 8, 2, 3]\n",
      "Switch 5 with 1\n",
      "[6, 5, 1, 10, 4, 7, 9, 8, 2, 3]\n",
      "[6, 5, 1, 10, 4, 7, 9, 8, 2, 3]\n",
      "[6, 5, 1, 10, 4, 7, 9, 8, 2, 3]\n",
      "[6, 5, 1, 10, 4, 7, 9, 8, 2, 3]\n",
      "[6, 5, 1, 10, 4, 7, 9, 8, 2, 3]\n",
      "[6, 5, 1, 10, 4, 7, 9, 8, 2, 3]\n",
      "[6, 5, 1, 10, 4, 7, 9, 8, 2, 3]\n",
      "[6, 5, 1, 10, 4, 7, 9, 8, 2, 3]\n",
      "[6, 5, 1, 10, 4, 7, 9, 8, 2, 3]\n",
      "Switch 10 with 6\n",
      "[10, 5, 1, 6, 4, 7, 9, 8, 2, 3]\n",
      "Switch 6 with 5\n",
      "[10, 6, 1, 5, 4, 7, 9, 8, 2, 3]\n",
      "Switch 5 with 1\n",
      "[10, 6, 5, 1, 4, 7, 9, 8, 2, 3]\n",
      "[10, 6, 5, 1, 4, 7, 9, 8, 2, 3]\n",
      "[10, 6, 5, 1, 4, 7, 9, 8, 2, 3]\n",
      "[10, 6, 5, 1, 4, 7, 9, 8, 2, 3]\n",
      "[10, 6, 5, 1, 4, 7, 9, 8, 2, 3]\n",
      "[10, 6, 5, 1, 4, 7, 9, 8, 2, 3]\n",
      "[10, 6, 5, 1, 4, 7, 9, 8, 2, 3]\n",
      "[10, 6, 5, 1, 4, 7, 9, 8, 2, 3]\n",
      "[10, 6, 5, 1, 4, 7, 9, 8, 2, 3]\n",
      "[10, 6, 5, 1, 4, 7, 9, 8, 2, 3]\n",
      "[10, 6, 5, 1, 4, 7, 9, 8, 2, 3]\n",
      "Switch 4 with 1\n",
      "[10, 6, 5, 4, 1, 7, 9, 8, 2, 3]\n",
      "[10, 6, 5, 4, 1, 7, 9, 8, 2, 3]\n",
      "[10, 6, 5, 4, 1, 7, 9, 8, 2, 3]\n",
      "[10, 6, 5, 4, 1, 7, 9, 8, 2, 3]\n",
      "[10, 6, 5, 4, 1, 7, 9, 8, 2, 3]\n",
      "[10, 6, 5, 4, 1, 7, 9, 8, 2, 3]\n",
      "[10, 6, 5, 4, 1, 7, 9, 8, 2, 3]\n",
      "[10, 6, 5, 4, 1, 7, 9, 8, 2, 3]\n",
      "Switch 7 with 6\n",
      "[10, 7, 5, 4, 1, 6, 9, 8, 2, 3]\n",
      "Switch 6 with 5\n",
      "[10, 7, 6, 4, 1, 5, 9, 8, 2, 3]\n",
      "Switch 5 with 4\n",
      "[10, 7, 6, 5, 1, 4, 9, 8, 2, 3]\n",
      "Switch 4 with 1\n",
      "[10, 7, 6, 5, 4, 1, 9, 8, 2, 3]\n",
      "[10, 7, 6, 5, 4, 1, 9, 8, 2, 3]\n",
      "[10, 7, 6, 5, 4, 1, 9, 8, 2, 3]\n",
      "[10, 7, 6, 5, 4, 1, 9, 8, 2, 3]\n",
      "[10, 7, 6, 5, 4, 1, 9, 8, 2, 3]\n",
      "[10, 7, 6, 5, 4, 1, 9, 8, 2, 3]\n",
      "[10, 7, 6, 5, 4, 1, 9, 8, 2, 3]\n",
      "Switch 9 with 7\n",
      "[10, 9, 6, 5, 4, 1, 7, 8, 2, 3]\n",
      "Switch 7 with 6\n",
      "[10, 9, 7, 5, 4, 1, 6, 8, 2, 3]\n",
      "Switch 6 with 5\n",
      "[10, 9, 7, 6, 4, 1, 5, 8, 2, 3]\n",
      "Switch 5 with 4\n",
      "[10, 9, 7, 6, 5, 1, 4, 8, 2, 3]\n",
      "Switch 4 with 1\n",
      "[10, 9, 7, 6, 5, 4, 1, 8, 2, 3]\n",
      "[10, 9, 7, 6, 5, 4, 1, 8, 2, 3]\n",
      "[10, 9, 7, 6, 5, 4, 1, 8, 2, 3]\n",
      "[10, 9, 7, 6, 5, 4, 1, 8, 2, 3]\n",
      "[10, 9, 7, 6, 5, 4, 1, 8, 2, 3]\n",
      "[10, 9, 7, 6, 5, 4, 1, 8, 2, 3]\n",
      "[10, 9, 7, 6, 5, 4, 1, 8, 2, 3]\n",
      "Switch 8 with 7\n",
      "[10, 9, 8, 6, 5, 4, 1, 7, 2, 3]\n",
      "Switch 7 with 6\n",
      "[10, 9, 8, 7, 5, 4, 1, 6, 2, 3]\n",
      "Switch 6 with 5\n",
      "[10, 9, 8, 7, 6, 4, 1, 5, 2, 3]\n",
      "Switch 5 with 4\n",
      "[10, 9, 8, 7, 6, 5, 1, 4, 2, 3]\n",
      "Switch 4 with 1\n",
      "[10, 9, 8, 7, 6, 5, 4, 1, 2, 3]\n",
      "[10, 9, 8, 7, 6, 5, 4, 1, 2, 3]\n",
      "[10, 9, 8, 7, 6, 5, 4, 1, 2, 3]\n",
      "[10, 9, 8, 7, 6, 5, 4, 1, 2, 3]\n",
      "[10, 9, 8, 7, 6, 5, 4, 1, 2, 3]\n",
      "[10, 9, 8, 7, 6, 5, 4, 1, 2, 3]\n",
      "[10, 9, 8, 7, 6, 5, 4, 1, 2, 3]\n",
      "[10, 9, 8, 7, 6, 5, 4, 1, 2, 3]\n",
      "[10, 9, 8, 7, 6, 5, 4, 1, 2, 3]\n",
      "[10, 9, 8, 7, 6, 5, 4, 1, 2, 3]\n",
      "[10, 9, 8, 7, 6, 5, 4, 1, 2, 3]\n",
      "Switch 2 with 1\n",
      "[10, 9, 8, 7, 6, 5, 4, 2, 1, 3]\n",
      "[10, 9, 8, 7, 6, 5, 4, 2, 1, 3]\n",
      "[10, 9, 8, 7, 6, 5, 4, 2, 1, 3]\n",
      "[10, 9, 8, 7, 6, 5, 4, 2, 1, 3]\n",
      "[10, 9, 8, 7, 6, 5, 4, 2, 1, 3]\n",
      "[10, 9, 8, 7, 6, 5, 4, 2, 1, 3]\n",
      "[10, 9, 8, 7, 6, 5, 4, 2, 1, 3]\n",
      "[10, 9, 8, 7, 6, 5, 4, 2, 1, 3]\n",
      "[10, 9, 8, 7, 6, 5, 4, 2, 1, 3]\n",
      "[10, 9, 8, 7, 6, 5, 4, 2, 1, 3]\n",
      "Switch 3 with 2\n",
      "[10, 9, 8, 7, 6, 5, 4, 3, 1, 2]\n",
      "Switch 2 with 1\n",
      "[10, 9, 8, 7, 6, 5, 4, 3, 2, 1]\n",
      "[10, 9, 8, 7, 6, 5, 4, 3, 2, 1]\n"
     ]
    }
   ],
   "source": [
    "my_list = [5,4,6,10,1,7,9,8,2,3]\n",
    "\n",
    "for i in range(len(my_list)):\n",
    "    for j in range (len(my_list)):\n",
    "        if my_list[i]> my_list[j]:\n",
    "            print(f\"Switch {my_list[i]} with {my_list[j]}\")\n",
    "            val = my_list[i]\n",
    "            my_list[i] = my_list[j]\n",
    "            my_list[j] = val\n",
    "        else:\n",
    "            pass\n",
    "        print(my_list)\n",
    "        \n",
    "        \n",
    "        \n"
   ]
  },
  {
   "cell_type": "code",
   "execution_count": 127,
   "id": "2095849f",
   "metadata": {},
   "outputs": [],
   "source": [
    "#find out if number n is prime:\n",
    "#take a list of all possible divisor [2...n-1]\n",
    "#iterate and check if n is divisible \n",
    "#if n is divisible, numver is not prime > stop: print(not prime)\n",
    "#if n is not divisible > keep iterating\n",
    "\n",
    "# bonus:\n",
    "#turn into a function that takes (n:int) as an argument aand return true if n is prime, otherwise false\n",
    "\n",
    "#use  % to check divisibility "
   ]
  },
  {
   "cell_type": "code",
   "execution_count": 1,
   "id": "02e352f2",
   "metadata": {},
   "outputs": [],
   "source": [
    "# write a program that computes a matrix "
   ]
  },
  {
   "cell_type": "code",
   "execution_count": null,
   "id": "ead96f59",
   "metadata": {},
   "outputs": [],
   "source": []
  },
  {
   "cell_type": "code",
   "execution_count": null,
   "id": "88b3b684",
   "metadata": {},
   "outputs": [],
   "source": []
  },
  {
   "cell_type": "code",
   "execution_count": 20,
   "id": "b80abadb",
   "metadata": {},
   "outputs": [
    {
     "name": "stdout",
     "output_type": "stream",
     "text": [
      "it is a even number\n",
      " the number is: 2\n",
      "it is a even number\n",
      " the number is: 4\n",
      "it is a even number\n",
      " the number is: 6\n",
      "it is a even number\n",
      " the number is: 8\n",
      "it is a even number\n",
      " the number is: 0\n"
     ]
    }
   ],
   "source": [
    "#for loop\n",
    "a= \"the number is\" \n",
    "my_list = [1,2,3,4,5,6,7,8,9,0]\n",
    "for i in my_list:\n",
    "    if i%2==0:\n",
    "        print(f\" {a}:\", i)\n",
    "    else:\n",
    "        print(\"it is a even number\")"
   ]
  },
  {
   "cell_type": "code",
   "execution_count": 25,
   "id": "7456569f",
   "metadata": {},
   "outputs": [
    {
     "name": "stdout",
     "output_type": "stream",
     "text": [
      "it is a odd number\n",
      "1\n",
      " the number is: 2\n",
      "3\n",
      "it is a odd number\n",
      "6\n",
      " the number is: 4\n",
      "10\n",
      "it is a odd number\n",
      "15\n",
      " the number is: 6\n",
      "21\n",
      "it is a odd number\n",
      "28\n",
      " the number is: 8\n",
      "36\n",
      "it is a odd number\n",
      "45\n",
      " the number is: 0\n",
      "45\n"
     ]
    }
   ],
   "source": [
    "#for loop\n",
    "a= \"the number is\" \n",
    "sum = 0\n",
    "my_list = [1,2,3,4,5,6,7,8,9,0]\n",
    "for i in my_list:\n",
    "    if i%2==0:\n",
    "        print(f\" {a}:\", i)\n",
    "    else:\n",
    "        print(\"it is a odd number\")\n",
    "    sum = sum + i\n",
    "    print(sum)"
   ]
  },
  {
   "cell_type": "code",
   "execution_count": 30,
   "id": "6ef6a5f5",
   "metadata": {},
   "outputs": [
    {
     "name": "stdout",
     "output_type": "stream",
     "text": [
      "(1, 2)\n",
      "(3, 4)\n",
      "(5, 6)\n"
     ]
    }
   ],
   "source": [
    "#tuple unpacking\n",
    "list2 = [(1,2),(3,4),(5,6)]\n",
    "for (a,b) in list2:\n",
    "    print ((a,b))"
   ]
  },
  {
   "cell_type": "code",
   "execution_count": 48,
   "id": "d3ea8980",
   "metadata": {},
   "outputs": [
    {
     "name": "stdout",
     "output_type": "stream",
     "text": [
      "k1\n",
      "k2\n",
      "k3\n",
      "k1\n",
      "k2\n",
      "k3\n"
     ]
    }
   ],
   "source": [
    "#iterate through a dictionary\n",
    "dic = {\"k1\":1,\"k2\":2, \"k3\":3}\n",
    "for i in dic.keys():\n",
    "    print(i)\n",
    "  \n",
    "#tuple unpacking\n",
    "\n",
    "for a,b in dic.items():\n",
    "    print(a)"
   ]
  },
  {
   "cell_type": "code",
   "execution_count": 45,
   "id": "5947355c",
   "metadata": {},
   "outputs": [
    {
     "data": {
      "text/plain": [
       "dict_values([1, 2, 3])"
      ]
     },
     "execution_count": 45,
     "metadata": {},
     "output_type": "execute_result"
    }
   ],
   "source": [
    "dic.values()"
   ]
  },
  {
   "cell_type": "code",
   "execution_count": 77,
   "id": "23f96cbc",
   "metadata": {},
   "outputs": [
    {
     "name": "stdout",
     "output_type": "stream",
     "text": [
      "0\n",
      "1\n",
      "2\n",
      "3\n",
      "4\n",
      "5\n",
      "6\n",
      "7\n",
      "8\n",
      "9\n",
      "0\n",
      "2\n",
      "4\n",
      "6\n",
      "8\n",
      "a\n",
      "b\n",
      "c\n",
      "d\n",
      "(0, 'a')\n",
      "(1, 'b')\n",
      "(2, 'c')\n",
      "(3, 'd')\n",
      "0\n",
      "a\n",
      "\n",
      "\n",
      "1\n",
      "b\n",
      "\n",
      "\n",
      "2\n",
      "c\n",
      "\n",
      "\n",
      "3\n",
      "d\n",
      "\n",
      "\n",
      "(1, 'a', 100)\n",
      "(2, 'b', 200)\n",
      "(3, 'c', 300)\n"
     ]
    },
    {
     "ename": "KeyboardInterrupt",
     "evalue": "Interrupted by user",
     "output_type": "error",
     "traceback": [
      "\u001b[0;31m---------------------------------------------------------------------------\u001b[0m",
      "\u001b[0;31mKeyboardInterrupt\u001b[0m                         Traceback (most recent call last)",
      "Input \u001b[0;32mIn [77]\u001b[0m, in \u001b[0;36m<cell line: 46>\u001b[0;34m()\u001b[0m\n\u001b[1;32m     43\u001b[0m randint(\u001b[38;5;241m0\u001b[39m,\u001b[38;5;241m100\u001b[39m) \u001b[38;5;66;03m#(lower range, upper range)\u001b[39;00m\n\u001b[1;32m     45\u001b[0m \u001b[38;5;66;03m#input functionin\u001b[39;00m\n\u001b[0;32m---> 46\u001b[0m \u001b[38;5;28mint\u001b[39m(\u001b[38;5;28;43minput\u001b[39;49m\u001b[43m(\u001b[49m\u001b[38;5;124;43m\"\u001b[39;49m\u001b[38;5;124;43mwhats is your age?\u001b[39;49m\u001b[38;5;124;43m\"\u001b[39;49m\u001b[43m)\u001b[49m)\n",
      "File \u001b[0;32m~/opt/anaconda3/lib/python3.9/site-packages/ipykernel/kernelbase.py:1075\u001b[0m, in \u001b[0;36mKernel.raw_input\u001b[0;34m(self, prompt)\u001b[0m\n\u001b[1;32m   1071\u001b[0m \u001b[38;5;28;01mif\u001b[39;00m \u001b[38;5;129;01mnot\u001b[39;00m \u001b[38;5;28mself\u001b[39m\u001b[38;5;241m.\u001b[39m_allow_stdin:\n\u001b[1;32m   1072\u001b[0m     \u001b[38;5;28;01mraise\u001b[39;00m StdinNotImplementedError(\n\u001b[1;32m   1073\u001b[0m         \u001b[38;5;124m\"\u001b[39m\u001b[38;5;124mraw_input was called, but this frontend does not support input requests.\u001b[39m\u001b[38;5;124m\"\u001b[39m\n\u001b[1;32m   1074\u001b[0m     )\n\u001b[0;32m-> 1075\u001b[0m \u001b[38;5;28;01mreturn\u001b[39;00m \u001b[38;5;28;43mself\u001b[39;49m\u001b[38;5;241;43m.\u001b[39;49m\u001b[43m_input_request\u001b[49m\u001b[43m(\u001b[49m\n\u001b[1;32m   1076\u001b[0m \u001b[43m    \u001b[49m\u001b[38;5;28;43mstr\u001b[39;49m\u001b[43m(\u001b[49m\u001b[43mprompt\u001b[49m\u001b[43m)\u001b[49m\u001b[43m,\u001b[49m\n\u001b[1;32m   1077\u001b[0m \u001b[43m    \u001b[49m\u001b[38;5;28;43mself\u001b[39;49m\u001b[38;5;241;43m.\u001b[39;49m\u001b[43m_parent_ident\u001b[49m\u001b[43m[\u001b[49m\u001b[38;5;124;43m\"\u001b[39;49m\u001b[38;5;124;43mshell\u001b[39;49m\u001b[38;5;124;43m\"\u001b[39;49m\u001b[43m]\u001b[49m\u001b[43m,\u001b[49m\n\u001b[1;32m   1078\u001b[0m \u001b[43m    \u001b[49m\u001b[38;5;28;43mself\u001b[39;49m\u001b[38;5;241;43m.\u001b[39;49m\u001b[43mget_parent\u001b[49m\u001b[43m(\u001b[49m\u001b[38;5;124;43m\"\u001b[39;49m\u001b[38;5;124;43mshell\u001b[39;49m\u001b[38;5;124;43m\"\u001b[39;49m\u001b[43m)\u001b[49m\u001b[43m,\u001b[49m\n\u001b[1;32m   1079\u001b[0m \u001b[43m    \u001b[49m\u001b[43mpassword\u001b[49m\u001b[38;5;241;43m=\u001b[39;49m\u001b[38;5;28;43;01mFalse\u001b[39;49;00m\u001b[43m,\u001b[49m\n\u001b[1;32m   1080\u001b[0m \u001b[43m\u001b[49m\u001b[43m)\u001b[49m\n",
      "File \u001b[0;32m~/opt/anaconda3/lib/python3.9/site-packages/ipykernel/kernelbase.py:1120\u001b[0m, in \u001b[0;36mKernel._input_request\u001b[0;34m(self, prompt, ident, parent, password)\u001b[0m\n\u001b[1;32m   1117\u001b[0m             \u001b[38;5;28;01mbreak\u001b[39;00m\n\u001b[1;32m   1118\u001b[0m \u001b[38;5;28;01mexcept\u001b[39;00m \u001b[38;5;167;01mKeyboardInterrupt\u001b[39;00m:\n\u001b[1;32m   1119\u001b[0m     \u001b[38;5;66;03m# re-raise KeyboardInterrupt, to truncate traceback\u001b[39;00m\n\u001b[0;32m-> 1120\u001b[0m     \u001b[38;5;28;01mraise\u001b[39;00m \u001b[38;5;167;01mKeyboardInterrupt\u001b[39;00m(\u001b[38;5;124m\"\u001b[39m\u001b[38;5;124mInterrupted by user\u001b[39m\u001b[38;5;124m\"\u001b[39m) \u001b[38;5;28;01mfrom\u001b[39;00m \u001b[38;5;28mNone\u001b[39m\n\u001b[1;32m   1121\u001b[0m \u001b[38;5;28;01mexcept\u001b[39;00m \u001b[38;5;167;01mException\u001b[39;00m:\n\u001b[1;32m   1122\u001b[0m     \u001b[38;5;28mself\u001b[39m\u001b[38;5;241m.\u001b[39mlog\u001b[38;5;241m.\u001b[39mwarning(\u001b[38;5;124m\"\u001b[39m\u001b[38;5;124mInvalid Message:\u001b[39m\u001b[38;5;124m\"\u001b[39m, exc_info\u001b[38;5;241m=\u001b[39m\u001b[38;5;28;01mTrue\u001b[39;00m)\n",
      "\u001b[0;31mKeyboardInterrupt\u001b[0m: Interrupted by user"
     ]
    }
   ],
   "source": [
    "#usefull operator \n",
    "# range function: it is a generator => you haeve to cast itto a list )generate information instead of saving it in the memory)\n",
    "\n",
    "for i in range(10):\n",
    "    print(i)\n",
    "\n",
    "\n",
    "for i in range(0,10,2): #start,stop,step\n",
    "    print(i)\n",
    "\n",
    "#enumerate: index count in the form of tuples\n",
    "index_count = 0\n",
    "word = \"abcd\"\n",
    "for i in word:\n",
    "    print(i[index_count])\n",
    "    index_count += 0\n",
    "\n",
    "for i in enumerate(word):\n",
    "    print(i)\n",
    "    \n",
    "for a,b in enumerate(word):  #tuple unpacking > a: index b:letter\n",
    "    print(a)\n",
    "    print(b)\n",
    "    print(\"\\n\")\n",
    "    \n",
    "    \n",
    "# zip 2 list together \n",
    "\n",
    "mylist1 = [1,2,3]\n",
    "mylist2 = [\"a\",\"b\",\"c\"]\n",
    "mylist3 =[100,200,300]\n",
    "for i in zip(mylist1,mylist2,mylist3):\n",
    "    print(i)\n",
    "#in    \n",
    "2 in mylist1\n",
    "\n",
    "2 in mylist2\n",
    "\n",
    "#built_in random library\n",
    "\n",
    "from random import shuffle  #from the random library import the shuffle function\n",
    "from random import randint\n",
    "randint(0,100) #(lower range, upper range)\n",
    "\n",
    "#input functionin\n",
    "int(input(\"whats is your age?\")) "
   ]
  },
  {
   "cell_type": "code",
   "execution_count": 86,
   "id": "e2e98a75",
   "metadata": {},
   "outputs": [
    {
     "name": "stdout",
     "output_type": "stream",
     "text": [
      "['h', 'e', 'l', 'l', 'o']\n",
      "['h', 'e', 'l', 'l', 'o']\n",
      "[0, 1, 2, 3, 4, 5, 6, 7, 8, 9, 10]\n",
      "[0, 1, 4, 9, 16, 25, 36, 49, 64, 81, 100]\n",
      "[0, 4, 16, 36, 64, 100]\n"
     ]
    }
   ],
   "source": [
    "#comprehesion: using for loop + using .append() for creating a list\n",
    "\n",
    "mystring = \"hello\"\n",
    "mylist5 = []\n",
    "for i in mystring:\n",
    "    mylist5.append(i)\n",
    "print (mylist5)\n",
    "\n",
    "#flatting out the for loop\n",
    "\n",
    "mylist6 = [i for i in mystring]\n",
    "print(mylist6)\n",
    "\n",
    "mylist7 = [i for i in range(0,11)]\n",
    "print(mylist7)\n",
    "\n",
    "mylist8 = [i**2 for i in range(0,11)]\n",
    "print(mylist8)\n",
    "\n",
    "mylist9 = [i**2 for i in range(0,11) if i%2 == 0]\n",
    "print(mylist9)"
   ]
  },
  {
   "cell_type": "code",
   "execution_count": null,
   "id": "87df80fc",
   "metadata": {},
   "outputs": [],
   "source": []
  },
  {
   "cell_type": "code",
   "execution_count": 108,
   "id": "62a41bbe",
   "metadata": {},
   "outputs": [
    {
     "name": "stdout",
     "output_type": "stream",
     "text": [
      "start\n",
      "s\n",
      "sentence\n"
     ]
    }
   ],
   "source": [
    "st = 'Print only the words that start with s in this sentence'\n",
    "for i in st.split():\n",
    "    if i[0] == \"s\":\n",
    "        print(i)\n",
    "\n"
   ]
  },
  {
   "cell_type": "code",
   "execution_count": 137,
   "id": "78b4b90b",
   "metadata": {},
   "outputs": [
    {
     "name": "stdout",
     "output_type": "stream",
     "text": [
      "[0, 3, 6, 9, 12, 15, 18, 21, 24, 27, 30, 33, 36, 39, 42, 45, 48]\n",
      "word\n",
      "in\n",
      "this\n",
      "sentence\n",
      "that\n",
      "an\n",
      "even\n",
      "number\n",
      "of\n",
      "1\n",
      "2\n",
      "Fizz\n",
      "4\n",
      "Buzz\n",
      "Fizz\n",
      "7\n",
      "8\n",
      "Fizz\n",
      "Buzz\n",
      "11\n",
      "Fizz\n",
      "13\n",
      "14\n",
      "FizzBuzz\n",
      "16\n",
      "17\n",
      "Fizz\n",
      "19\n",
      "Buzz\n",
      "Fizz\n",
      "22\n",
      "23\n",
      "Fizz\n",
      "Buzz\n",
      "26\n",
      "Fizz\n",
      "28\n",
      "29\n",
      "FizzBuzz\n",
      "31\n",
      "32\n",
      "Fizz\n",
      "34\n",
      "Buzz\n",
      "Fizz\n",
      "37\n",
      "38\n",
      "Fizz\n",
      "Buzz\n",
      "41\n",
      "Fizz\n",
      "43\n",
      "44\n",
      "FizzBuzz\n",
      "46\n",
      "47\n",
      "Fizz\n",
      "49\n",
      "Buzz\n",
      "Fizz\n",
      "52\n",
      "53\n",
      "Fizz\n",
      "Buzz\n",
      "56\n",
      "Fizz\n",
      "58\n",
      "59\n",
      "FizzBuzz\n",
      "61\n",
      "62\n",
      "Fizz\n",
      "64\n",
      "Buzz\n",
      "Fizz\n",
      "67\n",
      "68\n",
      "Fizz\n",
      "Buzz\n",
      "71\n",
      "Fizz\n",
      "73\n",
      "74\n",
      "FizzBuzz\n",
      "76\n",
      "77\n",
      "Fizz\n",
      "79\n",
      "Buzz\n",
      "Fizz\n",
      "82\n",
      "83\n",
      "Fizz\n",
      "Buzz\n",
      "86\n",
      "Fizz\n",
      "88\n",
      "89\n",
      "FizzBuzz\n",
      "91\n",
      "92\n",
      "Fizz\n",
      "94\n",
      "Buzz\n",
      "Fizz\n",
      "97\n",
      "98\n",
      "Fizz\n",
      "Buzz\n",
      "['C', 'a', 'l', 'o', 't', 'f', 'l', 'o', 'e', 'w', 'i', 't', 's']\n"
     ]
    }
   ],
   "source": [
    "#Use List comprehension to create a list of all numbers between 1 and 50 that are divisible by 3.\n",
    "\n",
    "list10 = [i for i in range(0,51) if i%3==0]\n",
    "print(list10)\n",
    "\n",
    "#Go through the string below and if the length of a word is even print \"even!\"\n",
    "\n",
    "st = 'Print every word in this sentence that has an even number of letters'\n",
    "\n",
    "for word in st.split():\n",
    "    if len(word)%2 ==0:\n",
    "        print(word)\n",
    "        \n",
    "# Write a program that prints the integers from 1 to 100. But for multiples of three print \"Fizz\" instead of the number, and for the multiples of five print \"Buzz\". For numbers which are multiples of both three and five print \"FizzBuzz\".\n",
    "for i in range(1,101):\n",
    "    if i%5==0 and i%3==0:\n",
    "        print(\"FizzBuzz\")\n",
    "    elif i%5 ==0:\n",
    "        print(\"Buzz\")\n",
    "    elif i%3==0:\n",
    "        print(\"Fizz\")\n",
    "    else:\n",
    "        print(i)\n",
    "        \n",
    "#Use a List Comprehension to create a list of the first letters of every word in the string below:\n",
    "\n",
    "st = 'Create a list of the first letters of every word in this string'\n",
    "list11 = [word[0] for word in st.split()]\n",
    "print(list11)"
   ]
  },
  {
   "cell_type": "code",
   "execution_count": 145,
   "id": "69626679",
   "metadata": {},
   "outputs": [
    {
     "name": "stdout",
     "output_type": "stream",
     "text": [
      "hello Hani\n"
     ]
    }
   ],
   "source": [
    "# functions\n",
    "\n",
    "#def name_f_function(\"parameter/argument\"):\n",
    "#    '''Docstring explains \n",
    "#    function'''\n",
    "    \n",
    "def name_of_function(name):\n",
    "    print(\"hello \" + name)\n",
    "name_of_function(\"Hani\")\n",
    "    \n",
    "#return allows you to assign the output of the function to a new variable (instead of just printing)  "
   ]
  },
  {
   "cell_type": "code",
   "execution_count": 146,
   "id": "b64206f1",
   "metadata": {},
   "outputs": [
    {
     "data": {
      "text/plain": [
       "13"
      ]
     },
     "execution_count": 146,
     "metadata": {},
     "output_type": "execute_result"
    }
   ],
   "source": [
    "roman_numbers = {\"I\":1, \"V\":5, \"X\":10, \"L\":50, \"C\":100, \"D\": 500, \"M\": 1000 }\n",
    "\n",
    "# input: \"X\", output: 10\n",
    "def romanToInt(c):\n",
    "    return roman_numbers[c]\n",
    "\n",
    "# input : \"XIII\", output: 12\n",
    "def romanNumberDecoder(s):\n",
    "    sum = 0\n",
    "    for c in s:\n",
    "        sum = sum + romanToInt(c)\n",
    "    return sum\n",
    "\n",
    "    \n",
    "my_string = \"XIII\"\n",
    "romanNumberDecoder(my_string)\n",
    "\n"
   ]
  },
  {
   "cell_type": "code",
   "execution_count": 154,
   "id": "6e3ad15e",
   "metadata": {},
   "outputs": [],
   "source": [
    "roman_numbers = {\"I\":1, \"V\":5, \"X\":10, \"L\":50, \"C\":100, \"D\": 500, \"M\": 1000 }\n",
    "def romanToInt(c):\n",
    "    return roman_numbers[c]\n",
    "     "
   ]
  },
  {
   "cell_type": "code",
   "execution_count": 156,
   "id": "bf02bdac",
   "metadata": {},
   "outputs": [
    {
     "data": {
      "text/plain": [
       "1"
      ]
     },
     "execution_count": 156,
     "metadata": {},
     "output_type": "execute_result"
    }
   ],
   "source": [
    "romanToInt(\"I\")"
   ]
  },
  {
   "cell_type": "code",
   "execution_count": 191,
   "id": "aa2f38c8",
   "metadata": {},
   "outputs": [],
   "source": [
    "def romanToInt(s):\n",
    "        # dictionary roman -> int\n",
    "        roman_numbers = {\"I\":1, \"V\":5, \"X\":10, \"L\":50, \"C\":100, \"D\": 500, \"M\":   1000}  \n",
    "        # sum for adding up the roman numerals\n",
    "        sum = 0\n",
    "        \n",
    "        # iterate over length of string - 1\n",
    "        # -1 because we look at both current, as well as next letter (would cause error for last letter)\n",
    "        for i in range(len(s) -1):\n",
    "            # get current letter, by taking string at index i -> letter \n",
    "            # use letter as key to get value of letter from dictionary\n",
    "            current = roman_numbers[s[i]]\n",
    "            \n",
    "            # do same, but look at next letter, by indexing at i + 1\n",
    "            nxt = roman_numbers[s[i + 1]]\n",
    "            \n",
    "            # if a roman letter is to the right of a bigger roman letter we add\n",
    "            if current >= nxt:\n",
    "                sum += current\n",
    "            # otherwise we subtract\n",
    "            else:\n",
    "                sum -= current\n",
    "            # special case for adding the last letter because we are iterating over the length of the string - 1\n",
    "            # therefore current never reaches the last letter, and we need to add nxt one time\n",
    "            # we always add the last letter\n",
    "            if i == len(s) -2:\n",
    "                sum += nxt\n",
    "            print(i)\n",
    "        return sum"
   ]
  },
  {
   "cell_type": "code",
   "execution_count": 193,
   "id": "f5a31c78",
   "metadata": {},
   "outputs": [
    {
     "name": "stdout",
     "output_type": "stream",
     "text": [
      "0\n",
      "1\n",
      "2\n",
      "3\n",
      "4\n",
      "5\n"
     ]
    },
    {
     "data": {
      "text/plain": [
       "1917"
      ]
     },
     "execution_count": 193,
     "metadata": {},
     "output_type": "execute_result"
    }
   ],
   "source": [
    "romanToInt(\"MCMXVII\")"
   ]
  },
  {
   "cell_type": "code",
   "execution_count": 224,
   "id": "337bb34a",
   "metadata": {},
   "outputs": [],
   "source": [
    "digits = [1, 2, 9]"
   ]
  },
  {
   "cell_type": "code",
   "execution_count": 225,
   "id": "e96e2545",
   "metadata": {},
   "outputs": [],
   "source": [
    "# input -> [1, 2, 9]\n",
    "# output -> [1, 3, 0]"
   ]
  },
  {
   "cell_type": "code",
   "execution_count": 226,
   "id": "cf94f9cb",
   "metadata": {},
   "outputs": [],
   "source": [
    "def addOne(dgts):\n",
    "    i = len(dgts)-1\n",
    "    last = dgts[i]+1\n",
    "    dgts.pop()\n",
    "    dgts.append(last)\n",
    "    \n",
    "    \n",
    "    return dgts\n",
    "    \n"
   ]
  },
  {
   "cell_type": "code",
   "execution_count": null,
   "id": "a2976c61",
   "metadata": {},
   "outputs": [],
   "source": []
  },
  {
   "cell_type": "code",
   "execution_count": 252,
   "id": "8914c343",
   "metadata": {},
   "outputs": [],
   "source": [
    "def addOne(dgts):\n",
    "    i = len(dgts)-1\n",
    "    while i >= 0:\n",
    "        num = dgts[i]\n",
    "        if num == 9:\n",
    "            dgts[i] = 0\n",
    "            if i == 0:\n",
    "                dgts = [1] + dgts\n",
    "        else:\n",
    "            dgts[i] += 1\n",
    "            break\n",
    "        i -= 1 \n",
    "        \n",
    "        \n",
    "    return dgts\n",
    "    \n"
   ]
  },
  {
   "cell_type": "code",
   "execution_count": 253,
   "id": "9af28a3c",
   "metadata": {},
   "outputs": [
    {
     "data": {
      "text/plain": [
       "[9, 0, 0, 0]"
      ]
     },
     "execution_count": 253,
     "metadata": {},
     "output_type": "execute_result"
    }
   ],
   "source": [
    "digits = [8, 9, 9, 9]\n",
    "addOne(digits)"
   ]
  },
  {
   "cell_type": "code",
   "execution_count": 270,
   "id": "9d6f27b0",
   "metadata": {},
   "outputs": [
    {
     "data": {
      "text/plain": [
       "[7, 2, 1, 4, 3, 5, 6]"
      ]
     },
     "execution_count": 270,
     "metadata": {},
     "output_type": "execute_result"
    }
   ],
   "source": [
    "# shuffle a list at random \n",
    "\n",
    "example = [1,2,3,4,5,6,7]\n",
    "from random import shuffle \n",
    "shuffle(example)\n",
    "example  # shuffle is an inplace function => dose not return anything => use def\n",
    "\n",
    "def shuffle_list (example):\n",
    "    shuffle(example)\n",
    "    return example\n",
    "shuffle_list(example)"
   ]
  },
  {
   "cell_type": "code",
   "execution_count": 311,
   "id": "cf8326ce",
   "metadata": {},
   "outputs": [],
   "source": [
    "my_list = [\"\",\"\",\"0\"]\n",
    "from random import shuffle \n",
    "def shuffle_list (my_list):\n",
    "    shuffle(my_list)\n",
    "    return my_list\n",
    "\n",
    "def theguess():\n",
    "    guess = \"\"\n",
    "    while guess not in [\"0\",\"1\",\"2\"]:\n",
    "        guess = input (\"pick a number: 0, 1 or 2: \")\n",
    "    return int(guess) \n",
    "\n",
    "def check_guess (my_list,guess):\n",
    "    if my_list[guess] == \"0\":\n",
    "        print (\"you are right\")\n",
    "    else:\n",
    "        print(\"try again\")"
   ]
  },
  {
   "cell_type": "code",
   "execution_count": 317,
   "id": "3b82f4fe",
   "metadata": {},
   "outputs": [],
   "source": [
    "my_list = [\"\",\"\",\"0\"]"
   ]
  },
  {
   "cell_type": "code",
   "execution_count": 318,
   "id": "725d6447",
   "metadata": {},
   "outputs": [
    {
     "data": {
      "text/plain": [
       "['', '', '0']"
      ]
     },
     "execution_count": 318,
     "metadata": {},
     "output_type": "execute_result"
    }
   ],
   "source": [
    "shuffle_list (my_list)"
   ]
  },
  {
   "cell_type": "code",
   "execution_count": 319,
   "id": "e989e783",
   "metadata": {},
   "outputs": [
    {
     "name": "stdout",
     "output_type": "stream",
     "text": [
      "pick a number: 0, 1 or 2: 0\n"
     ]
    }
   ],
   "source": [
    "guess = theguess()"
   ]
  },
  {
   "cell_type": "code",
   "execution_count": 320,
   "id": "8186aee5",
   "metadata": {},
   "outputs": [
    {
     "name": "stdout",
     "output_type": "stream",
     "text": [
      "try again\n"
     ]
    }
   ],
   "source": [
    "check_guess (my_list,guess)"
   ]
  },
  {
   "cell_type": "code",
   "execution_count": 323,
   "id": "12657648",
   "metadata": {},
   "outputs": [
    {
     "name": "stdout",
     "output_type": "stream",
     "text": [
      ":)\n",
      ":)\n",
      ":)\n"
     ]
    }
   ],
   "source": [
    "for i in \"101\":\n",
    "    print(\":)\")"
   ]
  },
  {
   "cell_type": "code",
   "execution_count": 408,
   "id": "bdd972a2",
   "metadata": {},
   "outputs": [],
   "source": [
    "def PalindromCheck(x):\n",
    "    x = str(x)\n",
    "    for i in range(len(x)):\n",
    "        if x[i] != x[len(x)-(i+1)]:\n",
    "            print(\"it's not a palindrome number\")\n",
    "    return True"
   ]
  },
  {
   "cell_type": "code",
   "execution_count": 409,
   "id": "b721bcf3",
   "metadata": {},
   "outputs": [
    {
     "data": {
      "text/plain": [
       "True"
      ]
     },
     "execution_count": 409,
     "metadata": {},
     "output_type": "execute_result"
    }
   ],
   "source": [
    "PalindromCheck(1221)"
   ]
  },
  {
   "cell_type": "code",
   "execution_count": 432,
   "id": "aab2150e",
   "metadata": {},
   "outputs": [],
   "source": [
    "def PalindromCheck(x):\n",
    "    x = str(x)\n",
    "    isPalindrome = True\n",
    "    for i in range(int(len(x)/2)):\n",
    "        print(i)\n",
    "        if x[i] == x[len(x)-(i+1)]:\n",
    "            continue\n",
    "        else:\n",
    "            isPalindrome = False\n",
    "            print(\"setting false\")\n",
    "    return isPalindrome"
   ]
  },
  {
   "cell_type": "code",
   "execution_count": 434,
   "id": "936e3ea2",
   "metadata": {},
   "outputs": [
    {
     "name": "stdout",
     "output_type": "stream",
     "text": [
      "0\n",
      "1\n",
      "2\n"
     ]
    },
    {
     "data": {
      "text/plain": [
       "True"
      ]
     },
     "execution_count": 434,
     "metadata": {},
     "output_type": "execute_result"
    }
   ],
   "source": [
    "PalindromCheck(105501)"
   ]
  },
  {
   "cell_type": "code",
   "execution_count": 471,
   "id": "24fc55c4",
   "metadata": {},
   "outputs": [],
   "source": [
    "# return True if word1 is anagram of word2, else return False\n",
    "def isAnagram(word1, word2):\n",
    "    w1 = sorted(word1)\n",
    "    w2 = sorted(word2)\n",
    "    if w1 == w2:\n",
    "        return True\n",
    "    else: \n",
    "         return False"
   ]
  },
  {
   "cell_type": "code",
   "execution_count": 472,
   "id": "f01c0bc7",
   "metadata": {},
   "outputs": [
    {
     "name": "stdout",
     "output_type": "stream",
     "text": [
      "True\n"
     ]
    }
   ],
   "source": [
    "print(isAnagram(\"listen\", \"silent\"))\n",
    "\n"
   ]
  },
  {
   "cell_type": "code",
   "execution_count": 490,
   "id": "60c68d12",
   "metadata": {},
   "outputs": [
    {
     "name": "stdout",
     "output_type": "stream",
     "text": [
      "['e', 'i', 'l', 'n', 's', 't']\n"
     ]
    }
   ],
   "source": [
    "print(sorted(\"listen\"))"
   ]
  },
  {
   "cell_type": "code",
   "execution_count": 492,
   "id": "375fabc4",
   "metadata": {},
   "outputs": [],
   "source": [
    "def find_biggest_power_of_2(x):\n",
    "    start = 0\n",
    "    while x - (2 ** start) >= 0:\n",
    "        start += 1\n",
    "    return start"
   ]
  },
  {
   "cell_type": "code",
   "execution_count": 502,
   "id": "207a4a75",
   "metadata": {},
   "outputs": [],
   "source": [
    "def bin2dec(binaryNum):\n",
    "    binaryNum = str(binaryNum)[::-1]\n",
    "    decNum = 0\n",
    "    for i in range(len(binaryNum)):\n",
    "         decNum += int(binaryNum[i]) * (2 ** i)\n",
    "    return decNum\n",
    "\n",
    "def dec2bin(decimalNum):\n",
    "    # return binary encoding of decimalNum\n",
    "    biggestPower = find_biggest_power_of_2(decimalNum)\n",
    "    for i in range(biggestPower):\n",
    "         if decimalNum >= 2**i:\n",
    "                decimalNum - 2**biggestPower-i\n",
    "                \n",
    "                   \n",
    "\n",
    "    return 1100100"
   ]
  },
  {
   "cell_type": "code",
   "execution_count": 503,
   "id": "9618088f",
   "metadata": {},
   "outputs": [
    {
     "data": {
      "text/plain": [
       "100"
      ]
     },
     "execution_count": 503,
     "metadata": {},
     "output_type": "execute_result"
    }
   ],
   "source": [
    "bin2dec(1100100)"
   ]
  },
  {
   "cell_type": "code",
   "execution_count": 501,
   "id": "9401c8d6",
   "metadata": {},
   "outputs": [
    {
     "data": {
      "text/plain": [
       "1100100"
      ]
     },
     "execution_count": 501,
     "metadata": {},
     "output_type": "execute_result"
    }
   ],
   "source": [
    "x = 1100100\n",
    "dec2bin(bin2dec(x))"
   ]
  },
  {
   "cell_type": "code",
   "execution_count": 538,
   "id": "e77d5ba7",
   "metadata": {},
   "outputs": [],
   "source": [
    "def dec2bin(decimalNum):\n",
    "    # return binary encoding of decimalNum\n",
    "    biggestPower = find_biggest_power_of_2(decimalNum)\n",
    "    print(biggestPower)\n",
    "    bin = []\n",
    "    for i in range(biggestPower+1):\n",
    "        if decimalNum >= 2**(biggestPower - i):\n",
    "            decimalNum -= 2**(biggestPower-i)\n",
    "            bin.append(\"1\")\n",
    "        else:\n",
    "            bin.append(\"0\")\n",
    "    \n",
    "    return int(\"\".join(bin))"
   ]
  },
  {
   "cell_type": "code",
   "execution_count": 539,
   "id": "209f1a52",
   "metadata": {},
   "outputs": [
    {
     "name": "stdout",
     "output_type": "stream",
     "text": [
      "6\n"
     ]
    },
    {
     "data": {
      "text/plain": [
       "1100100"
      ]
     },
     "execution_count": 539,
     "metadata": {},
     "output_type": "execute_result"
    }
   ],
   "source": [
    "dec2bin(100)"
   ]
  },
  {
   "cell_type": "code",
   "execution_count": 605,
   "id": "33334562",
   "metadata": {},
   "outputs": [],
   "source": [
    "# num happy if square of individual digits summed eventually (after some iterations) = 1\n",
    "# not happy if number never becomes 1\n",
    "#\n",
    "# keep iterating, and keep track of numbers, to see if a number repeats, if it does, the number has a cycle, and \n",
    "# is therefore sad\n",
    "#\n",
    "# return True if number happy, else return False\n",
    "def happyNum(n):\n",
    "    n = str(n)\n",
    "    nums = []\n",
    "    while True:\n",
    "        n = list(n)\n",
    "        a = 0\n",
    "        for i in n:\n",
    "            a += int(i)**2\n",
    "        print(a)\n",
    "        if a == 1:\n",
    "            return True\n",
    "        # check if a in nums\n",
    "        elif a in nums:\n",
    "            return False\n",
    "        else:\n",
    "            n = str(a)\n",
    "            nums.append(a)\n",
    "        # if not in nums --> add to nums, repeat\n",
    "                                                                   "
   ]
  },
  {
   "cell_type": "code",
   "execution_count": null,
   "id": "6be4bca5",
   "metadata": {},
   "outputs": [],
   "source": []
  },
  {
   "cell_type": "code",
   "execution_count": 607,
   "id": "79a98740",
   "metadata": {},
   "outputs": [
    {
     "name": "stdout",
     "output_type": "stream",
     "text": [
      "4\n",
      "16\n",
      "37\n",
      "58\n",
      "89\n",
      "145\n",
      "42\n",
      "20\n",
      "4\n"
     ]
    },
    {
     "data": {
      "text/plain": [
       "False"
      ]
     },
     "execution_count": 607,
     "metadata": {},
     "output_type": "execute_result"
    }
   ],
   "source": [
    "happyNum(2)"
   ]
  },
  {
   "cell_type": "code",
   "execution_count": 610,
   "id": "c6c148b8",
   "metadata": {},
   "outputs": [],
   "source": [
    "mylist = []\n",
    "def myfunc (*args):\n",
    "    for i in args:\n",
    "        if i % 2 == 0:\n",
    "            mylist.append(i)\n",
    "        else:\n",
    "            pass\n",
    "        return mylist\n",
    "    "
   ]
  },
  {
   "cell_type": "code",
   "execution_count": 611,
   "id": "37e00595",
   "metadata": {},
   "outputs": [
    {
     "data": {
      "text/plain": [
       "[100]"
      ]
     },
     "execution_count": 611,
     "metadata": {},
     "output_type": "execute_result"
    }
   ],
   "source": [
    "myfunc (100,5,7,89)"
   ]
  },
  {
   "cell_type": "code",
   "execution_count": 628,
   "id": "179b8076",
   "metadata": {},
   "outputs": [],
   "source": [
    "def myfunc(a):\n",
    "    newa = \"\"\n",
    "    for i in range(len(a)):\n",
    "        if i%2 == 0:\n",
    "            newa += a[i].upper()\n",
    "        else:\n",
    "            newa += a[i].lower()\n",
    "    return newa\n",
    "    \n",
    "    "
   ]
  },
  {
   "cell_type": "code",
   "execution_count": 629,
   "id": "808831b2",
   "metadata": {},
   "outputs": [
    {
     "data": {
      "text/plain": [
       "'HaNi'"
      ]
     },
     "execution_count": 629,
     "metadata": {},
     "output_type": "execute_result"
    }
   ],
   "source": [
    "myfunc(\"hani\")"
   ]
  },
  {
   "cell_type": "code",
   "execution_count": 622,
   "id": "553322ef",
   "metadata": {},
   "outputs": [
    {
     "data": {
      "text/plain": [
       "'H'"
      ]
     },
     "execution_count": 622,
     "metadata": {},
     "output_type": "execute_result"
    }
   ],
   "source": []
  },
  {
   "cell_type": "code",
   "execution_count": 640,
   "id": "88fbc56d",
   "metadata": {},
   "outputs": [],
   "source": [
    "def happyNum(n):\n",
    "    \n",
    "    while i in str(len(str(n))):\n",
    "        n = int(i)**2 + int(i+1)**2\n",
    "        return n"
   ]
  },
  {
   "cell_type": "code",
   "execution_count": 641,
   "id": "0ec5bfc5",
   "metadata": {},
   "outputs": [],
   "source": [
    "happyNum(12)"
   ]
  },
  {
   "cell_type": "code",
   "execution_count": 642,
   "id": "aff255d8",
   "metadata": {},
   "outputs": [
    {
     "data": {
      "text/plain": [
       "2"
      ]
     },
     "execution_count": 642,
     "metadata": {},
     "output_type": "execute_result"
    }
   ],
   "source": [
    "len(\"12\")"
   ]
  },
  {
   "cell_type": "code",
   "execution_count": 645,
   "id": "3aafaef4",
   "metadata": {},
   "outputs": [],
   "source": [
    "a = (42**3 + 17)/((3/8)-(14**1/2))"
   ]
  },
  {
   "cell_type": "code",
   "execution_count": 646,
   "id": "2f3b99d5",
   "metadata": {},
   "outputs": [
    {
     "data": {
      "text/plain": [
       "-11185.66037735849"
      ]
     },
     "execution_count": 646,
     "metadata": {},
     "output_type": "execute_result"
    }
   ],
   "source": [
    "a"
   ]
  },
  {
   "cell_type": "code",
   "execution_count": 647,
   "id": "6d53b241",
   "metadata": {},
   "outputs": [
    {
     "ename": "NameError",
     "evalue": "name 'sin4' is not defined",
     "output_type": "error",
     "traceback": [
      "\u001b[0;31m---------------------------------------------------------------------------\u001b[0m",
      "\u001b[0;31mNameError\u001b[0m                                 Traceback (most recent call last)",
      "Input \u001b[0;32mIn [647]\u001b[0m, in \u001b[0;36m<cell line: 1>\u001b[0;34m()\u001b[0m\n\u001b[0;32m----> 1\u001b[0m \u001b[43msin4\u001b[49m\n",
      "\u001b[0;31mNameError\u001b[0m: name 'sin4' is not defined"
     ]
    }
   ],
   "source": [
    "import sin4"
   ]
  },
  {
   "cell_type": "code",
   "execution_count": 654,
   "id": "470575c8",
   "metadata": {},
   "outputs": [
    {
     "data": {
      "text/plain": [
       "0.829980376859476"
      ]
     },
     "execution_count": 654,
     "metadata": {},
     "output_type": "execute_result"
    }
   ],
   "source": [
    "import math\n",
    "a = math.sin(math.cos((math.tan(0.524)**math.log(18))))\n",
    "a"
   ]
  },
  {
   "cell_type": "code",
   "execution_count": 653,
   "id": "062bc7f1",
   "metadata": {},
   "outputs": [
    {
     "data": {
      "text/plain": [
       "2.302585092994046"
      ]
     },
     "execution_count": 653,
     "metadata": {},
     "output_type": "execute_result"
    }
   ],
   "source": [
    "math.log(10)"
   ]
  },
  {
   "cell_type": "code",
   "execution_count": 5,
   "id": "c3597b91",
   "metadata": {},
   "outputs": [
    {
     "name": "stdout",
     "output_type": "stream",
     "text": [
      "give me a number: 2\n",
      "8 4\n"
     ]
    },
    {
     "ename": "KeyboardInterrupt",
     "evalue": "Interrupted by user",
     "output_type": "error",
     "traceback": [
      "\u001b[0;31m---------------------------------------------------------------------------\u001b[0m",
      "\u001b[0;31mKeyboardInterrupt\u001b[0m                         Traceback (most recent call last)",
      "Input \u001b[0;32mIn [5]\u001b[0m, in \u001b[0;36m<cell line: 2>\u001b[0;34m()\u001b[0m\n\u001b[1;32m      1\u001b[0m \u001b[38;5;28;01mwhile\u001b[39;00m \u001b[38;5;28;01mTrue\u001b[39;00m:\n\u001b[0;32m----> 2\u001b[0m     a \u001b[38;5;241m=\u001b[39m \u001b[38;5;28;43minput\u001b[39;49m\u001b[43m(\u001b[49m\u001b[38;5;124;43m\"\u001b[39;49m\u001b[38;5;124;43mgive me a number: \u001b[39;49m\u001b[38;5;124;43m\"\u001b[39;49m\u001b[43m)\u001b[49m\n\u001b[1;32m      3\u001b[0m     a \u001b[38;5;241m=\u001b[39m \u001b[38;5;28mint\u001b[39m(a)\n\u001b[1;32m      4\u001b[0m     \u001b[38;5;28mprint\u001b[39m(a\u001b[38;5;241m*\u001b[39m\u001b[38;5;241m*\u001b[39m\u001b[38;5;241m3\u001b[39m, a\u001b[38;5;241m*\u001b[39m\u001b[38;5;241m*\u001b[39m\u001b[38;5;241m2\u001b[39m)\n",
      "File \u001b[0;32m~/opt/anaconda3/lib/python3.9/site-packages/ipykernel/kernelbase.py:1075\u001b[0m, in \u001b[0;36mKernel.raw_input\u001b[0;34m(self, prompt)\u001b[0m\n\u001b[1;32m   1071\u001b[0m \u001b[38;5;28;01mif\u001b[39;00m \u001b[38;5;129;01mnot\u001b[39;00m \u001b[38;5;28mself\u001b[39m\u001b[38;5;241m.\u001b[39m_allow_stdin:\n\u001b[1;32m   1072\u001b[0m     \u001b[38;5;28;01mraise\u001b[39;00m StdinNotImplementedError(\n\u001b[1;32m   1073\u001b[0m         \u001b[38;5;124m\"\u001b[39m\u001b[38;5;124mraw_input was called, but this frontend does not support input requests.\u001b[39m\u001b[38;5;124m\"\u001b[39m\n\u001b[1;32m   1074\u001b[0m     )\n\u001b[0;32m-> 1075\u001b[0m \u001b[38;5;28;01mreturn\u001b[39;00m \u001b[38;5;28;43mself\u001b[39;49m\u001b[38;5;241;43m.\u001b[39;49m\u001b[43m_input_request\u001b[49m\u001b[43m(\u001b[49m\n\u001b[1;32m   1076\u001b[0m \u001b[43m    \u001b[49m\u001b[38;5;28;43mstr\u001b[39;49m\u001b[43m(\u001b[49m\u001b[43mprompt\u001b[49m\u001b[43m)\u001b[49m\u001b[43m,\u001b[49m\n\u001b[1;32m   1077\u001b[0m \u001b[43m    \u001b[49m\u001b[38;5;28;43mself\u001b[39;49m\u001b[38;5;241;43m.\u001b[39;49m\u001b[43m_parent_ident\u001b[49m\u001b[43m[\u001b[49m\u001b[38;5;124;43m\"\u001b[39;49m\u001b[38;5;124;43mshell\u001b[39;49m\u001b[38;5;124;43m\"\u001b[39;49m\u001b[43m]\u001b[49m\u001b[43m,\u001b[49m\n\u001b[1;32m   1078\u001b[0m \u001b[43m    \u001b[49m\u001b[38;5;28;43mself\u001b[39;49m\u001b[38;5;241;43m.\u001b[39;49m\u001b[43mget_parent\u001b[49m\u001b[43m(\u001b[49m\u001b[38;5;124;43m\"\u001b[39;49m\u001b[38;5;124;43mshell\u001b[39;49m\u001b[38;5;124;43m\"\u001b[39;49m\u001b[43m)\u001b[49m\u001b[43m,\u001b[49m\n\u001b[1;32m   1079\u001b[0m \u001b[43m    \u001b[49m\u001b[43mpassword\u001b[49m\u001b[38;5;241;43m=\u001b[39;49m\u001b[38;5;28;43;01mFalse\u001b[39;49;00m\u001b[43m,\u001b[49m\n\u001b[1;32m   1080\u001b[0m \u001b[43m\u001b[49m\u001b[43m)\u001b[49m\n",
      "File \u001b[0;32m~/opt/anaconda3/lib/python3.9/site-packages/ipykernel/kernelbase.py:1120\u001b[0m, in \u001b[0;36mKernel._input_request\u001b[0;34m(self, prompt, ident, parent, password)\u001b[0m\n\u001b[1;32m   1117\u001b[0m             \u001b[38;5;28;01mbreak\u001b[39;00m\n\u001b[1;32m   1118\u001b[0m \u001b[38;5;28;01mexcept\u001b[39;00m \u001b[38;5;167;01mKeyboardInterrupt\u001b[39;00m:\n\u001b[1;32m   1119\u001b[0m     \u001b[38;5;66;03m# re-raise KeyboardInterrupt, to truncate traceback\u001b[39;00m\n\u001b[0;32m-> 1120\u001b[0m     \u001b[38;5;28;01mraise\u001b[39;00m \u001b[38;5;167;01mKeyboardInterrupt\u001b[39;00m(\u001b[38;5;124m\"\u001b[39m\u001b[38;5;124mInterrupted by user\u001b[39m\u001b[38;5;124m\"\u001b[39m) \u001b[38;5;28;01mfrom\u001b[39;00m \u001b[38;5;28mNone\u001b[39m\n\u001b[1;32m   1121\u001b[0m \u001b[38;5;28;01mexcept\u001b[39;00m \u001b[38;5;167;01mException\u001b[39;00m:\n\u001b[1;32m   1122\u001b[0m     \u001b[38;5;28mself\u001b[39m\u001b[38;5;241m.\u001b[39mlog\u001b[38;5;241m.\u001b[39mwarning(\u001b[38;5;124m\"\u001b[39m\u001b[38;5;124mInvalid Message:\u001b[39m\u001b[38;5;124m\"\u001b[39m, exc_info\u001b[38;5;241m=\u001b[39m\u001b[38;5;28;01mTrue\u001b[39;00m)\n",
      "\u001b[0;31mKeyboardInterrupt\u001b[0m: Interrupted by user"
     ]
    }
   ],
   "source": [
    "while True:\n",
    "    a = input(\"give me a number: \")\n",
    "    a = int(a)\n",
    "    print(a**3, a**2)\n"
   ]
  },
  {
   "cell_type": "code",
   "execution_count": 7,
   "id": "7228817f",
   "metadata": {},
   "outputs": [
    {
     "name": "stdout",
     "output_type": "stream",
     "text": [
      "give me two names:hni\n"
     ]
    },
    {
     "data": {
      "text/plain": [
       "'hni'"
      ]
     },
     "execution_count": 7,
     "metadata": {},
     "output_type": "execute_result"
    }
   ],
   "source": [
    "input(\"give me two names:\",  )"
   ]
  },
  {
   "cell_type": "code",
   "execution_count": 20,
   "id": "ef8449d7",
   "metadata": {},
   "outputs": [],
   "source": [
    "def SumString():\n",
    "    a = input(\"give me one name: \")\n",
    "    b = input(\"gime me onother one: \")\n",
    "    c = a+b\n",
    "    return c\n",
    "    "
   ]
  },
  {
   "cell_type": "code",
   "execution_count": 29,
   "id": "3230bd96",
   "metadata": {},
   "outputs": [],
   "source": [
    "def WrongNum():\n",
    "    a = input (\"give me a numer: \")\n",
    "    if a == 1 or  a == 17 or  a == 42:\n",
    "        print (\"True\") \n",
    "    else:\n",
    "        print (\"False\")"
   ]
  },
  {
   "cell_type": "code",
   "execution_count": 30,
   "id": "d9d2be83",
   "metadata": {},
   "outputs": [
    {
     "name": "stdout",
     "output_type": "stream",
     "text": [
      "give me a numer: 3\n",
      "False\n"
     ]
    }
   ],
   "source": [
    "WrongNum()"
   ]
  },
  {
   "cell_type": "code",
   "execution_count": 96,
   "id": "04cc1de2",
   "metadata": {},
   "outputs": [],
   "source": [
    "def Quadraticequation(**args):\n",
    "    while True:\n",
    "        a = input(\" inter the coefficient a:  \")\n",
    "        b = input(\" inter the coefficient b:  \")\n",
    "        c = input(\" inter the constant c:  \")\n",
    "        a = int(a)\n",
    "        b = int(b)\n",
    "        c = int(c)\n",
    "        discriminant = b**2 - 4*a*c\n",
    "        x1 = -b + discriminant**1/2\n",
    "        x2 = -b - discriminant**1/2\n",
    "        if discriminant >= 0:\n",
    "            return (f\"the equation is y = {a}x**2 + {b}x + {c} with two solutions, {x1:.3f} and {x2:.3f}\")\n",
    "        else:\n",
    "            return (f\"the equation is y = {a}x**2 + {b}x + {c} with no real solutions\")"
   ]
  },
  {
   "cell_type": "code",
   "execution_count": 97,
   "id": "04f7da81",
   "metadata": {},
   "outputs": [
    {
     "name": "stdout",
     "output_type": "stream",
     "text": [
      " inter the coefficient a:  1\n",
      " inter the coefficient b:  20\n",
      " inter the constant c:  1\n"
     ]
    },
    {
     "ename": "KeyError",
     "evalue": "'a'",
     "output_type": "error",
     "traceback": [
      "\u001b[0;31m---------------------------------------------------------------------------\u001b[0m",
      "\u001b[0;31mKeyError\u001b[0m                                  Traceback (most recent call last)",
      "Input \u001b[0;32mIn [97]\u001b[0m, in \u001b[0;36m<cell line: 1>\u001b[0;34m()\u001b[0m\n\u001b[0;32m----> 1\u001b[0m \u001b[43mQuadraticequation\u001b[49m\u001b[43m(\u001b[49m\u001b[43m)\u001b[49m\n",
      "Input \u001b[0;32mIn [96]\u001b[0m, in \u001b[0;36mQuadraticequation\u001b[0;34m(**args)\u001b[0m\n\u001b[1;32m     11\u001b[0m x2 \u001b[38;5;241m=\u001b[39m \u001b[38;5;241m-\u001b[39mb \u001b[38;5;241m-\u001b[39m discriminant\u001b[38;5;241m*\u001b[39m\u001b[38;5;241m*\u001b[39m\u001b[38;5;241m1\u001b[39m\u001b[38;5;241m/\u001b[39m\u001b[38;5;241m2\u001b[39m\n\u001b[1;32m     12\u001b[0m \u001b[38;5;28;01mif\u001b[39;00m discriminant \u001b[38;5;241m>\u001b[39m\u001b[38;5;241m=\u001b[39m \u001b[38;5;241m0\u001b[39m:\n\u001b[0;32m---> 13\u001b[0m     \u001b[38;5;28;01mreturn\u001b[39;00m (\u001b[38;5;124;43m\"\u001b[39;49m\u001b[38;5;124;43mthe equation is y = \u001b[39;49m\u001b[38;5;132;43;01m{a}\u001b[39;49;00m\u001b[38;5;124;43mx**2 + \u001b[39;49m\u001b[38;5;132;43;01m{b}\u001b[39;49;00m\u001b[38;5;124;43mx + \u001b[39;49m\u001b[38;5;132;43;01m{c}\u001b[39;49;00m\u001b[38;5;124;43m with two solutions, \u001b[39;49m\u001b[38;5;132;43;01m{x1:.3f}\u001b[39;49;00m\u001b[38;5;124;43m and \u001b[39;49m\u001b[38;5;132;43;01m{x2:.3f}\u001b[39;49;00m\u001b[38;5;124;43m\"\u001b[39;49m\u001b[38;5;241;43m.\u001b[39;49m\u001b[43mformat\u001b[49m\u001b[43m(\u001b[49m\u001b[43ma\u001b[49m\u001b[43m,\u001b[49m\u001b[43m \u001b[49m\u001b[43mb\u001b[49m\u001b[43m,\u001b[49m\u001b[43m \u001b[49m\u001b[43mc\u001b[49m\u001b[43m,\u001b[49m\u001b[43m \u001b[49m\u001b[43mx1\u001b[49m\u001b[43m,\u001b[49m\u001b[43mx2\u001b[49m\u001b[43m)\u001b[49m)\n\u001b[1;32m     14\u001b[0m \u001b[38;5;28;01melse\u001b[39;00m:\n\u001b[1;32m     15\u001b[0m     \u001b[38;5;28;01mreturn\u001b[39;00m (\u001b[38;5;124mf\u001b[39m\u001b[38;5;124m\"\u001b[39m\u001b[38;5;124mthe equation is y = \u001b[39m\u001b[38;5;132;01m{\u001b[39;00ma\u001b[38;5;132;01m}\u001b[39;00m\u001b[38;5;124mx**2 + \u001b[39m\u001b[38;5;132;01m{\u001b[39;00mb\u001b[38;5;132;01m}\u001b[39;00m\u001b[38;5;124mx + \u001b[39m\u001b[38;5;132;01m{\u001b[39;00mc\u001b[38;5;132;01m}\u001b[39;00m\u001b[38;5;124m with no real solutions\u001b[39m\u001b[38;5;124m\"\u001b[39m)\n",
      "\u001b[0;31mKeyError\u001b[0m: 'a'"
     ]
    }
   ],
   "source": [
    "Quadraticequation()"
   ]
  },
  {
   "cell_type": "code",
   "execution_count": 98,
   "id": "1db964ec",
   "metadata": {},
   "outputs": [],
   "source": [
    "f = 0.002"
   ]
  },
  {
   "cell_type": "code",
   "execution_count": 107,
   "id": "b1c2b25f",
   "metadata": {},
   "outputs": [
    {
     "name": "stdout",
     "output_type": "stream",
     "text": [
      "0.00\n"
     ]
    }
   ],
   "source": [
    "print(f\"{f:.2f}\")"
   ]
  },
  {
   "cell_type": "code",
   "execution_count": null,
   "id": "041f50d6",
   "metadata": {},
   "outputs": [],
   "source": []
  }
 ],
 "metadata": {
  "kernelspec": {
   "display_name": "Python 3 (ipykernel)",
   "language": "python",
   "name": "python3"
  },
  "language_info": {
   "codemirror_mode": {
    "name": "ipython",
    "version": 3
   },
   "file_extension": ".py",
   "mimetype": "text/x-python",
   "name": "python",
   "nbconvert_exporter": "python",
   "pygments_lexer": "ipython3",
   "version": "3.9.12"
  }
 },
 "nbformat": 4,
 "nbformat_minor": 5
}
